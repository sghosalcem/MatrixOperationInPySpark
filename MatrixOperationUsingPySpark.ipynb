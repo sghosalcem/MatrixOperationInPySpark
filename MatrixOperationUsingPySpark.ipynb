{
  "nbformat": 4,
  "nbformat_minor": 0,
  "metadata": {
    "colab": {
      "name": "MatrixOperationUsingPySpark.ipynb",
      "provenance": [],
      "toc_visible": true
    },
    "kernelspec": {
      "name": "python3",
      "display_name": "Python 3"
    },
    "language_info": {
      "name": "python"
    }
  },
  "cells": [
    {
      "cell_type": "code",
      "execution_count": 78,
      "metadata": {
        "colab": {
          "base_uri": "https://localhost:8080/"
        },
        "id": "Of7MJO3Pj_HB",
        "outputId": "d403fc8e-fb11-4c22-974f-81fd73cbe553"
      },
      "outputs": [
        {
          "output_type": "stream",
          "name": "stdout",
          "text": [
            "Python 3.7.13\n"
          ]
        }
      ],
      "source": [
        "!python --version"
      ]
    },
    {
      "cell_type": "code",
      "source": [
        "!pwd\n",
        "!pip install pyspark\n"
      ],
      "metadata": {
        "id": "iVr29a_7mUg2"
      },
      "execution_count": null,
      "outputs": []
    },
    {
      "cell_type": "code",
      "source": [
        "from pyspark.sql import SparkSession"
      ],
      "metadata": {
        "id": "8nyHZbjxpK_w"
      },
      "execution_count": 81,
      "outputs": []
    },
    {
      "cell_type": "code",
      "source": [
        "sc=SparkSession.builder.appName(\"PySpark in Google colab Example1\").getOrCreate"
      ],
      "metadata": {
        "id": "Sdsb5KEopxu2"
      },
      "execution_count": 82,
      "outputs": []
    },
    {
      "cell_type": "code",
      "source": [
        "import numpy as np\n",
        "from pprint import pprint\n",
        "from collections import defaultdict\n",
        "\n",
        "m = np.matrix(\n",
        "    [ \n",
        "        [1, 3, 3],\n",
        "        [3, 3, 4],\n",
        "        [2, 7, 3],\n",
        "        [4, 6, 1],\n",
        "        [1, 5, 7]\n",
        "    ]\n",
        ")\n",
        "\n",
        "n = np.matrix(\n",
        "    [\n",
        "        [2, 5, 3, 6],\n",
        "        [9, 4, 7, 2],\n",
        "        [6, 4, 5, 3],\n",
        "    ]\n",
        ")"
      ],
      "metadata": {
        "id": "FHaWAGxIvHfn"
      },
      "execution_count": 83,
      "outputs": []
    },
    {
      "cell_type": "code",
      "source": [
        "shape_m = m.shape\n",
        "shape_n = n.shape\n",
        "pprint(shape_m)\n",
        "pprint(shape_n)\n",
        "m_n = m * n\n",
        "pprint(m_n)"
      ],
      "metadata": {
        "id": "_i7WP6KqvLco"
      },
      "execution_count": null,
      "outputs": []
    },
    {
      "cell_type": "code",
      "source": [
        "# Representing matrices in the form of i, j , m[i][j] and i, j, n[i][j]\n",
        "print(m.shape[0])\n",
        "print(m.shape[1])\n",
        "m = [[i, j, m[i,j]] for i in range(m.shape[0]) for j in range(m.shape[1]) if m[i,j] != 0]\n",
        "pprint(m)"
      ],
      "metadata": {
        "id": "3GYg84Tu5gBq"
      },
      "execution_count": null,
      "outputs": []
    },
    {
      "cell_type": "code",
      "source": [
        "n = [[i, j, n[i,j]] for i in range(n.shape[0]) for j in range(n.shape[1]) if n[i, j] != 0]\n",
        "print(len(n))\n",
        "pprint(n)"
      ],
      "metadata": {
        "id": "Afsj_FlH5j4h"
      },
      "execution_count": null,
      "outputs": []
    },
    {
      "cell_type": "code",
      "source": [
        "# create key value pairs fot the 1st matrix\n",
        "# key = j, values = [mij, ...]\n",
        "ma = defaultdict(list)\n",
        "pprint(ma)\n",
        "for j in range(len(m)):\n",
        "    ma[m[j][1]].append((m[j][0], m[j][2]))\n",
        "\n",
        "pprint(ma)"
      ],
      "metadata": {
        "id": "2AIB_yAi5vop"
      },
      "execution_count": null,
      "outputs": []
    },
    {
      "cell_type": "code",
      "source": [
        "# create key value pairs\n",
        "\n",
        "# key = j, value = njk\n",
        "na = defaultdict(list)\n",
        "for j in range(len(n)):\n",
        "    na[n[j][0]].append((n[j][1], n[j][2]))\n",
        "\n",
        "pprint(na)"
      ],
      "metadata": {
        "id": "uo0UWeam59ty"
      },
      "execution_count": null,
      "outputs": []
    },
    {
      "cell_type": "code",
      "source": [
        "# Reduce keys for each possible j value\n",
        "# Group by keys from ma, na\n",
        "# For each j value we will take each i, mij value from ma and multiply it by k, mjk\n",
        "# The key will now be this (i, k) value\n",
        "op = defaultdict(list)\n",
        "for j in range(shape_m[1]):\n",
        "    if j in ma and j in na:\n",
        "        for mi in ma[j]:\n",
        "            for ni in na[j]: \n",
        "                i = mi[0]\n",
        "                k = ni[0]\n",
        "                op[(i,k)].append(mi[1] * ni[1])\n",
        "pprint(op)"
      ],
      "metadata": {
        "id": "bux68CD56C3h"
      },
      "execution_count": null,
      "outputs": []
    },
    {
      "cell_type": "code",
      "source": [
        "# Group by the keys again and sum the values to get the final result which is the multiplication of m and n\n",
        "ans = list()\n",
        "for k, v in op.items():\n",
        "    ans.append([k[0], k[1], sum(v)])    \n",
        "pprint(sorted(ans))\n"
      ],
      "metadata": {
        "id": "g2TtY8Jt6ZZ4"
      },
      "execution_count": null,
      "outputs": []
    },
    {
      "cell_type": "code",
      "source": [
        "# Compare with results obtained using numpy matrix multiplication\n",
        "m_n = [[i, j, m_n[i,j]] for i in range(m_n.shape[0]) for j in range(m_n.shape[1]) if m_n[i,j] != 0]\n",
        "pprint(m_n)"
      ],
      "metadata": {
        "id": "xfFxyHH-vYo3"
      },
      "execution_count": null,
      "outputs": []
    }
  ]
}