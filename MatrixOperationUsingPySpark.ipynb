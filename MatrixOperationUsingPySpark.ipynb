{
  "nbformat": 4,
  "nbformat_minor": 0,
  "metadata": {
    "colab": {
      "name": "MatrixOperationUsingPySpark.ipynb",
      "provenance": []
    },
    "kernelspec": {
      "name": "python3",
      "display_name": "Python 3"
    },
    "language_info": {
      "name": "python"
    }
  },
  "cells": [
    {
      "cell_type": "code",
      "execution_count": 1,
      "metadata": {
        "colab": {
          "base_uri": "https://localhost:8080/"
        },
        "id": "Of7MJO3Pj_HB",
        "outputId": "2346183a-fd03-4797-9441-aa10a7a861cd"
      },
      "outputs": [
        {
          "output_type": "stream",
          "name": "stdout",
          "text": [
            "Python 3.7.13\n"
          ]
        }
      ],
      "source": [
        "!python --version"
      ]
    },
    {
      "cell_type": "code",
      "source": [
        "!pwd\n",
        "!pip install pyspark\n"
      ],
      "metadata": {
        "colab": {
          "base_uri": "https://localhost:8080/"
        },
        "id": "iVr29a_7mUg2",
        "outputId": "55b583dd-e20f-4d42-9a8c-d6a231ee8178"
      },
      "execution_count": 3,
      "outputs": [
        {
          "output_type": "stream",
          "name": "stdout",
          "text": [
            "/content\n",
            "Looking in indexes: https://pypi.org/simple, https://us-python.pkg.dev/colab-wheels/public/simple/\n",
            "Collecting pyspark\n",
            "  Downloading pyspark-3.3.0.tar.gz (281.3 MB)\n",
            "\u001b[K     |████████████████████████████████| 281.3 MB 46 kB/s \n",
            "\u001b[?25hCollecting py4j==0.10.9.5\n",
            "  Downloading py4j-0.10.9.5-py2.py3-none-any.whl (199 kB)\n",
            "\u001b[K     |████████████████████████████████| 199 kB 60.2 MB/s \n",
            "\u001b[?25hBuilding wheels for collected packages: pyspark\n",
            "  Building wheel for pyspark (setup.py) ... \u001b[?25l\u001b[?25hdone\n",
            "  Created wheel for pyspark: filename=pyspark-3.3.0-py2.py3-none-any.whl size=281764026 sha256=4e174c457c12902ac0ed098ac8e886a284f1ef61823a5ca1ebaf3099a1942105\n",
            "  Stored in directory: /root/.cache/pip/wheels/7a/8e/1b/f73a52650d2e5f337708d9f6a1750d451a7349a867f928b885\n",
            "Successfully built pyspark\n",
            "Installing collected packages: py4j, pyspark\n",
            "Successfully installed py4j-0.10.9.5 pyspark-3.3.0\n"
          ]
        }
      ]
    },
    {
      "cell_type": "code",
      "source": [
        "from pyspark.sql import SparkSession"
      ],
      "metadata": {
        "id": "8nyHZbjxpK_w"
      },
      "execution_count": 4,
      "outputs": []
    },
    {
      "cell_type": "code",
      "source": [
        "sc=SparkSession.builder.appName(\"PySpark in Google colab Example1\").getOrCreate"
      ],
      "metadata": {
        "id": "Sdsb5KEopxu2"
      },
      "execution_count": 7,
      "outputs": []
    },
    {
      "cell_type": "code",
      "source": [
        "import numpy as np\n",
        "from pprint import pprint\n",
        "from collections import defaultdict\n",
        "\n",
        "m = np.matrix(\n",
        "    [ \n",
        "        [1, 2, 0],\n",
        "        [3, 0, 5],\n",
        "        [0, 7, 0],\n",
        "        [4, 0, 0],\n",
        "        [1, 8, 2]\n",
        "    ]\n",
        ")\n",
        "\n",
        "n = np.matrix(\n",
        "    [\n",
        "        [1, 4, 5, 0],\n",
        "        [0, 4, 0, 1],\n",
        "        [6, 3, 9, 1],\n",
        "    ]\n",
        ")"
      ],
      "metadata": {
        "id": "FHaWAGxIvHfn"
      },
      "execution_count": 52,
      "outputs": []
    },
    {
      "cell_type": "code",
      "source": [
        "shape_m = m.shape\n",
        "shape_n = n.shape\n",
        "pprint(shape_m)\n",
        "pprint(shape_n)\n",
        "m_n = m * n\n",
        "pprint(m_n)"
      ],
      "metadata": {
        "colab": {
          "base_uri": "https://localhost:8080/"
        },
        "id": "_i7WP6KqvLco",
        "outputId": "4edc18c7-0c52-4b21-9cef-a4600066cd78"
      },
      "execution_count": 53,
      "outputs": [
        {
          "output_type": "stream",
          "name": "stdout",
          "text": [
            "(5, 3)\n",
            "(3, 4)\n",
            "matrix([[ 1, 12,  5,  2],\n",
            "        [33, 27, 60,  5],\n",
            "        [ 0, 28,  0,  7],\n",
            "        [ 4, 16, 20,  0],\n",
            "        [13, 42, 23, 10]])\n"
          ]
        }
      ]
    },
    {
      "cell_type": "code",
      "source": [
        "# Representing matrices in the form of i, j , m[i][j] and i, j, n[i][j]\n",
        "print(m.shape[0])\n",
        "print(m.shape[1])\n",
        "m = [[i, j, m[i,j]] for i in range(m.shape[0]) for j in range(m.shape[1]) if m[i,j] != 0]\n",
        "pprint(m)"
      ],
      "metadata": {
        "colab": {
          "base_uri": "https://localhost:8080/"
        },
        "id": "3GYg84Tu5gBq",
        "outputId": "cac29a73-bad3-4de9-9b9c-cfbeffdcadc5"
      },
      "execution_count": 54,
      "outputs": [
        {
          "output_type": "stream",
          "name": "stdout",
          "text": [
            "5\n",
            "3\n",
            "[[0, 0, 1],\n",
            " [0, 1, 2],\n",
            " [1, 0, 3],\n",
            " [1, 2, 5],\n",
            " [2, 1, 7],\n",
            " [3, 0, 4],\n",
            " [4, 0, 1],\n",
            " [4, 1, 8],\n",
            " [4, 2, 2]]\n"
          ]
        }
      ]
    },
    {
      "cell_type": "code",
      "source": [
        "n = [[i, j, n[i,j]] for i in range(n.shape[0]) for j in range(n.shape[1]) if n[i, j] != 0]\n",
        "print(len(n))\n",
        "pprint(n)"
      ],
      "metadata": {
        "colab": {
          "base_uri": "https://localhost:8080/"
        },
        "id": "Afsj_FlH5j4h",
        "outputId": "4d647173-cfe3-4fd7-b0ed-ec5b2c8eda52"
      },
      "execution_count": 55,
      "outputs": [
        {
          "output_type": "stream",
          "name": "stdout",
          "text": [
            "9\n",
            "[[0, 0, 1],\n",
            " [0, 1, 4],\n",
            " [0, 2, 5],\n",
            " [1, 1, 4],\n",
            " [1, 3, 1],\n",
            " [2, 0, 6],\n",
            " [2, 1, 3],\n",
            " [2, 2, 9],\n",
            " [2, 3, 1]]\n"
          ]
        }
      ]
    },
    {
      "cell_type": "code",
      "source": [
        "# create key value pairs fot the 1st matrix\n",
        "# key = j, values = [mij, ...]\n",
        "ma = defaultdict(list)\n",
        "pprint(ma)\n",
        "for j in range(len(m)):\n",
        "    ma[m[j][1]].append((m[j][0], m[j][2]))\n",
        "\n",
        "pprint(ma)"
      ],
      "metadata": {
        "colab": {
          "base_uri": "https://localhost:8080/"
        },
        "id": "2AIB_yAi5vop",
        "outputId": "381aab5e-94e5-45e6-ef0a-3ef970071dad"
      },
      "execution_count": 56,
      "outputs": [
        {
          "output_type": "stream",
          "name": "stdout",
          "text": [
            "defaultdict(<class 'list'>, {})\n",
            "defaultdict(<class 'list'>,\n",
            "            {0: [(0, 1), (1, 3), (3, 4), (4, 1)],\n",
            "             1: [(0, 2), (2, 7), (4, 8)],\n",
            "             2: [(1, 5), (4, 2)]})\n"
          ]
        }
      ]
    },
    {
      "cell_type": "code",
      "source": [
        "# create key value pairs\n",
        "\n",
        "# key = j, value = njk\n",
        "na = defaultdict(list)\n",
        "for j in range(len(n)):\n",
        "    na[n[j][0]].append((n[j][1], n[j][2]))\n",
        "\n",
        "pprint(na)"
      ],
      "metadata": {
        "colab": {
          "base_uri": "https://localhost:8080/"
        },
        "id": "uo0UWeam59ty",
        "outputId": "560771f0-4132-439b-a68f-a4d71807f5a1"
      },
      "execution_count": 57,
      "outputs": [
        {
          "output_type": "stream",
          "name": "stdout",
          "text": [
            "defaultdict(<class 'list'>,\n",
            "            {0: [(0, 1), (1, 4), (2, 5)],\n",
            "             1: [(1, 4), (3, 1)],\n",
            "             2: [(0, 6), (1, 3), (2, 9), (3, 1)]})\n"
          ]
        }
      ]
    },
    {
      "cell_type": "code",
      "source": [
        "# Reduce keys for each possible j value\n",
        "# Group by keys from ma, na\n",
        "# For each j value we will take each i, mij value from ma and multiply it by k, mjk\n",
        "# The key will now be this (i, k) value\n",
        "op = defaultdict(list)\n",
        "for j in range(shape_m[1]):\n",
        "    if j in ma and j in na:\n",
        "        for mi in ma[j]:\n",
        "            for ni in na[j]: \n",
        "                i = mi[0]\n",
        "                k = ni[0]\n",
        "                op[(i,k)].append(mi[1] * ni[1])\n",
        "pprint(op)"
      ],
      "metadata": {
        "colab": {
          "base_uri": "https://localhost:8080/"
        },
        "id": "bux68CD56C3h",
        "outputId": "fce7c637-d78c-4e93-8a17-eb95c19fc433"
      },
      "execution_count": 58,
      "outputs": [
        {
          "output_type": "stream",
          "name": "stdout",
          "text": [
            "defaultdict(<class 'list'>,\n",
            "            {(0, 0): [1],\n",
            "             (0, 1): [4, 8],\n",
            "             (0, 2): [5],\n",
            "             (0, 3): [2],\n",
            "             (1, 0): [3, 30],\n",
            "             (1, 1): [12, 15],\n",
            "             (1, 2): [15, 45],\n",
            "             (1, 3): [5],\n",
            "             (2, 1): [28],\n",
            "             (2, 3): [7],\n",
            "             (3, 0): [4],\n",
            "             (3, 1): [16],\n",
            "             (3, 2): [20],\n",
            "             (4, 0): [1, 12],\n",
            "             (4, 1): [4, 32, 6],\n",
            "             (4, 2): [5, 18],\n",
            "             (4, 3): [8, 2]})\n"
          ]
        }
      ]
    },
    {
      "cell_type": "code",
      "source": [
        "# Group by the keys again and sum the values to get the final result which is the multiplication of m and n\n",
        "ans = list()\n",
        "for k, v in op.items():\n",
        "    ans.append([k[0], k[1], sum(v)])    \n",
        "pprint(sorted(ans))\n"
      ],
      "metadata": {
        "colab": {
          "base_uri": "https://localhost:8080/"
        },
        "id": "g2TtY8Jt6ZZ4",
        "outputId": "d47329ed-bf4d-4bc6-d7ce-0465b46e35c1"
      },
      "execution_count": 76,
      "outputs": [
        {
          "output_type": "stream",
          "name": "stdout",
          "text": [
            "[[0, 0, 1],\n",
            " [0, 1, 12],\n",
            " [0, 2, 5],\n",
            " [0, 3, 2],\n",
            " [1, 0, 33],\n",
            " [1, 1, 27],\n",
            " [1, 2, 60],\n",
            " [1, 3, 5],\n",
            " [2, 1, 28],\n",
            " [2, 3, 7],\n",
            " [3, 0, 4],\n",
            " [3, 1, 16],\n",
            " [3, 2, 20],\n",
            " [4, 0, 13],\n",
            " [4, 1, 42],\n",
            " [4, 2, 23],\n",
            " [4, 3, 10]]\n"
          ]
        }
      ]
    },
    {
      "cell_type": "code",
      "source": [
        "# Compare with results obtained using numpy matrix multiplication\n",
        "m_n = [[i, j, m_n[i,j]] for i in range(m_n.shape[0]) for j in range(m_n.shape[1]) if m_n[i,j] != 0]\n",
        "pprint(m_n)"
      ],
      "metadata": {
        "colab": {
          "base_uri": "https://localhost:8080/"
        },
        "id": "xfFxyHH-vYo3",
        "outputId": "2d6252f1-8a95-459b-b845-c960de61a4bc"
      },
      "execution_count": 60,
      "outputs": [
        {
          "output_type": "stream",
          "name": "stdout",
          "text": [
            "[[0, 0, 1],\n",
            " [0, 1, 12],\n",
            " [0, 2, 5],\n",
            " [0, 3, 2],\n",
            " [1, 0, 33],\n",
            " [1, 1, 27],\n",
            " [1, 2, 60],\n",
            " [1, 3, 5],\n",
            " [2, 1, 28],\n",
            " [2, 3, 7],\n",
            " [3, 0, 4],\n",
            " [3, 1, 16],\n",
            " [3, 2, 20],\n",
            " [4, 0, 13],\n",
            " [4, 1, 42],\n",
            " [4, 2, 23],\n",
            " [4, 3, 10]]\n"
          ]
        }
      ]
    },
    {
      "cell_type": "code",
      "source": [
        "\n"
      ],
      "metadata": {
        "colab": {
          "base_uri": "https://localhost:8080/",
          "height": 165
        },
        "id": "Yz-A014n6tnI",
        "outputId": "2d270099-7361-499b-8be8-82d7cbbc18c6"
      },
      "execution_count": 77,
      "outputs": [
        {
          "output_type": "error",
          "ename": "TypeError",
          "evalue": "ignored",
          "traceback": [
            "\u001b[0;31m---------------------------------------------------------------------------\u001b[0m",
            "\u001b[0;31mTypeError\u001b[0m                                 Traceback (most recent call last)",
            "\u001b[0;32m<ipython-input-77-245d81fc66a2>\u001b[0m in \u001b[0;36m<module>\u001b[0;34m()\u001b[0m\n\u001b[0;32m----> 1\u001b[0;31m \u001b[0mprod2\u001b[0m \u001b[0;34m=\u001b[0m \u001b[0mans\u001b[0m\u001b[0;34m[\u001b[0m\u001b[0;34m:\u001b[0m\u001b[0;34m,\u001b[0m\u001b[0;36m3\u001b[0m\u001b[0;34m]\u001b[0m\u001b[0;34m\u001b[0m\u001b[0;34m\u001b[0m\u001b[0m\n\u001b[0m",
            "\u001b[0;31mTypeError\u001b[0m: list indices must be integers or slices, not tuple"
          ]
        }
      ]
    }
  ]
}